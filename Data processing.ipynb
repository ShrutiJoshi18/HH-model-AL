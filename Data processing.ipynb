{
 "cells": [
  {
   "cell_type": "code",
   "execution_count": 796,
   "metadata": {},
   "outputs": [],
   "source": [
    "import pandas as pd\n",
    "import os\n",
    "import numpy as np\n",
    "import scipy.signal as sp\n",
    "import scipy\n",
    "import matplotlib.pyplot as pl\n",
    "import peakutils\n",
    "from sklearn.decomposition import PCA\n",
    "import datetime"
   ]
  },
  {
   "cell_type": "code",
   "execution_count": 896,
   "metadata": {},
   "outputs": [
    {
     "name": "stdout",
     "output_type": "stream",
     "text": [
      "/home/shruti/Documents/AL_120n_parallelised\n"
     ]
    }
   ],
   "source": [
    "%cd .."
   ]
  },
  {
   "cell_type": "code",
   "execution_count": 897,
   "metadata": {},
   "outputs": [
    {
     "name": "stdout",
     "output_type": "stream",
     "text": [
      "/home/shruti/Documents/AL_120n_parallelised/2018-11-19_run1\n"
     ]
    }
   ],
   "source": [
    "%cd 2018-11-19_run1/"
   ]
  },
  {
   "cell_type": "code",
   "execution_count": 932,
   "metadata": {},
   "outputs": [],
   "source": [
    "df = pd.read_csv('final_120n.csv')"
   ]
  },
  {
   "cell_type": "code",
   "execution_count": 933,
   "metadata": {},
   "outputs": [
    {
     "data": {
      "text/plain": [
       "[RangeIndex(start=0, stop=64791, step=1),\n",
       " Index([u'time', u'n0v', u'n1v', u'n2v', u'n3v', u'n4v', u'n5v', u'n6v', u'n7v',\n",
       "        u'n8v',\n",
       "        ...\n",
       "        u'n114v', u'n115v', u'n116v', u'n117v', u'n118v', u'n119v', u's100p',\n",
       "        u's1500p', u's3000p', u's4100p'],\n",
       "       dtype='object', length=125)]"
      ]
     },
     "execution_count": 933,
     "metadata": {},
     "output_type": "execute_result"
    }
   ],
   "source": [
    "df.axes"
   ]
  },
  {
   "cell_type": "code",
   "execution_count": 934,
   "metadata": {},
   "outputs": [],
   "source": [
    "V = df.values[:,1:121]\n",
    "time = df.values[:,0]\n",
    "time = time/1000\n",
    "v_PN = V[:,:90]\n",
    "v_LN = V[:,91:]\n",
    "g1 = df.values[:,121:]"
   ]
  },
  {
   "cell_type": "code",
   "execution_count": 901,
   "metadata": {},
   "outputs": [
    {
     "data": {
      "text/plain": [
       "array([[0.1     , 0.1     , 0.1     , 0.1     ],\n",
       "       [0.1     , 0.1     , 0.1     , 0.1     ],\n",
       "       [0.1     , 0.1     , 0.1     , 0.1     ],\n",
       "       ...,\n",
       "       [0.1     , 0.108715, 0.108715, 0.1     ],\n",
       "       [0.1     , 0.108715, 0.108715, 0.1     ],\n",
       "       [     nan,      nan,      nan,      nan]])"
      ]
     },
     "execution_count": 901,
     "metadata": {},
     "output_type": "execute_result"
    }
   ],
   "source": [
    "g1"
   ]
  },
  {
   "cell_type": "code",
   "execution_count": 902,
   "metadata": {},
   "outputs": [
    {
     "data": {
      "text/plain": [
       "[<matplotlib.lines.Line2D at 0x7f4cb503b050>]"
      ]
     },
     "execution_count": 902,
     "metadata": {},
     "output_type": "execute_result"
    }
   ],
   "source": [
    "pl.plot(time,g1[:,3])"
   ]
  },
  {
   "cell_type": "code",
   "execution_count": 935,
   "metadata": {},
   "outputs": [
    {
     "name": "stdout",
     "output_type": "stream",
     "text": [
      "(array([24, 25, 26, 27, 28, 29, 30, 31, 32, 33, 34, 35, 36, 37, 38, 39, 40,\n",
      "       41, 42, 43, 44, 45, 46, 47, 48, 49, 50, 51, 52, 53, 54, 55, 56, 57,\n",
      "       58, 59, 60, 61, 62, 63, 64, 65, 66, 67]),)\n",
      "44\n",
      "(1, 44)\n"
     ]
    }
   ],
   "source": [
    "# which neurons are spiking? PN\n",
    "\n",
    "num_spikingneurons = np.zeros(120)\n",
    "for i in range(0,120):\n",
    "    a,_ = sp.find_peaks(V[1000:,i], height = 35)\n",
    "    if len(a):\n",
    "        num_spikingneurons[i] = 1\n",
    "print np.nonzero(num_spikingneurons)\n",
    "print np.count_nonzero(num_spikingneurons)\n",
    "\n",
    "spiking_neurons = np.array(np.nonzero(num_spikingneurons))\n",
    "print spiking_neurons.shape"
   ]
  },
  {
   "cell_type": "code",
   "execution_count": 936,
   "metadata": {},
   "outputs": [
    {
     "name": "stdout",
     "output_type": "stream",
     "text": [
      "(array([ 90,  91,  92,  93,  94,  95,  96,  97,  98,  99, 100, 101, 102,\n",
      "       103, 104, 105, 106, 107, 108, 109, 110, 111, 112, 113, 114, 115,\n",
      "       116, 117, 118, 119]),)\n",
      "30\n",
      "(1, 30)\n"
     ]
    }
   ],
   "source": [
    "# which neurons are spiking? LN\n",
    "\n",
    "num_spikingneurons_LN = np.zeros(120)\n",
    "for i in range(90,120):\n",
    "    a,_ = sp.find_peaks(V[:,i], height = -20)\n",
    "    if len(a):\n",
    "        num_spikingneurons_LN[i] = 1\n",
    "print np.nonzero(num_spikingneurons_LN)\n",
    "print np.count_nonzero(num_spikingneurons_LN)\n",
    "\n",
    "spiking_neurons_LN = np.array(np.nonzero(num_spikingneurons_LN))\n",
    "print spiking_neurons_LN.shape"
   ]
  },
  {
   "cell_type": "code",
   "execution_count": 937,
   "metadata": {},
   "outputs": [
    {
     "name": "stdout",
     "output_type": "stream",
     "text": [
      "Using matplotlib backend: TkAgg\n"
     ]
    }
   ],
   "source": [
    "#PN plot\n",
    "%matplotlib\n",
    "for i in range (0,5):\n",
    "    pl.subplot(5,1,i+1)\n",
    "    pl.plot(time,v_PN[:,spiking_neurons[0,i+9]])\n",
    "    pl.title(\"Voltage PN - Number {}.png\".format(spiking_neurons[0,i]))\n",
    "    \n",
    "pl.savefig(\"Figures/Voltage PN\")"
   ]
  },
  {
   "cell_type": "code",
   "execution_count": 924,
   "metadata": {},
   "outputs": [],
   "source": [
    "#LN plot\n",
    "\n",
    "for i in range (0,5):\n",
    "    pl.subplot(5,1,i+1)\n",
    "    pl.plot(time,v_LN[:,spiking_neurons_LN[0,i+9]-90])\n",
    "    pl.title(\"Voltage LN - Number {}.png\".format(spiking_neurons_LN[0,i+9]))\n",
    "    \n",
    "pl.savefig(\"Figures/Voltage LN\")"
   ]
  },
  {
   "cell_type": "code",
   "execution_count": 925,
   "metadata": {},
   "outputs": [
    {
     "name": "stdout",
     "output_type": "stream",
     "text": [
      "Using matplotlib backend: TkAgg\n"
     ]
    }
   ],
   "source": [
    "#plot PN voltage\n",
    "\n",
    "%matplotlib\n",
    "PN_no = 45\n",
    "pl.plot(time,v_PN[:,PN_no])\n",
    "pl.title(\"Voltage PN - Number {}.png\".format(PN_no))\n",
    "pl.savefig(\"Figures/Voltage PN - Number {}.png\".format(PN_no))\n",
    "#pl.plot(A,M[:,2])\n",
    "#pl.plot(A,M[:,4])\n",
    "#pl.plot(A,M[:,41])"
   ]
  },
  {
   "cell_type": "code",
   "execution_count": 695,
   "metadata": {},
   "outputs": [],
   "source": [
    "# plot LN voltage\n",
    "pl.close()\n",
    "LN_no = 12\n",
    "pl.plot(time,v_LN[:,LN_no])\n",
    "pl.title(\"Voltage LN - Number {}.png\".format(LN_no))\n",
    "pl.savefig(\"Figures/Voltage LN - Number {}.png\".format(LN_no))"
   ]
  },
  {
   "cell_type": "code",
   "execution_count": 926,
   "metadata": {
    "scrolled": true
   },
   "outputs": [
    {
     "name": "stdout",
     "output_type": "stream",
     "text": [
      "61942\n"
     ]
    }
   ],
   "source": [
    "# plot LFP\n",
    "pl.close()\n",
    "C_avg = np.average(V[:,0:90], 1)\n",
    "pl.plot(time,C_avg)\n",
    "pl.grid(True)\n",
    "pl.title('LFP')\n",
    "manager = pl.get_current_fig_manager()\n",
    "manager.resize(*manager.window.maxsize())\n",
    "\n",
    "print len(C_avg)\n",
    "pl.savefig('Figures/LFP.png')"
   ]
  },
  {
   "cell_type": "code",
   "execution_count": 927,
   "metadata": {},
   "outputs": [
    {
     "ename": "ValueError",
     "evalue": "array must not contain infs or NaNs",
     "output_type": "error",
     "traceback": [
      "\u001b[0;31m---------------------------------------------------------------------------\u001b[0m",
      "\u001b[0;31mValueError\u001b[0m                                Traceback (most recent call last)",
      "\u001b[0;32m<ipython-input-927-bc958eb1cfe4>\u001b[0m in \u001b[0;36m<module>\u001b[0;34m()\u001b[0m\n\u001b[1;32m      2\u001b[0m \u001b[0mC_avg\u001b[0m \u001b[0;34m=\u001b[0m \u001b[0mC_avg\u001b[0m\u001b[0;34m[\u001b[0m\u001b[0;36m50000\u001b[0m\u001b[0;34m:\u001b[0m\u001b[0;36m250000\u001b[0m\u001b[0;34m]\u001b[0m\u001b[0;34m\u001b[0m\u001b[0m\n\u001b[1;32m      3\u001b[0m \u001b[0mC_avg\u001b[0m \u001b[0;34m=\u001b[0m \u001b[0mC_avg\u001b[0m \u001b[0;34m-\u001b[0m \u001b[0mnp\u001b[0m\u001b[0;34m.\u001b[0m\u001b[0mmean\u001b[0m\u001b[0;34m(\u001b[0m\u001b[0mC_avg\u001b[0m\u001b[0;34m)\u001b[0m\u001b[0;34m\u001b[0m\u001b[0m\n\u001b[0;32m----> 4\u001b[0;31m \u001b[0mC_avg\u001b[0m \u001b[0;34m=\u001b[0m \u001b[0msp\u001b[0m\u001b[0;34m.\u001b[0m\u001b[0mdetrend\u001b[0m\u001b[0;34m(\u001b[0m\u001b[0mC_avg\u001b[0m\u001b[0;34m)\u001b[0m\u001b[0;34m\u001b[0m\u001b[0m\n\u001b[0m\u001b[1;32m      5\u001b[0m \u001b[0mlen\u001b[0m\u001b[0;34m(\u001b[0m\u001b[0mC_avg\u001b[0m\u001b[0;34m)\u001b[0m\u001b[0;34m\u001b[0m\u001b[0m\n",
      "\u001b[0;32m/usr/local/lib/python2.7/dist-packages/scipy/signal/signaltools.pyc\u001b[0m in \u001b[0;36mdetrend\u001b[0;34m(data, axis, type, bp)\u001b[0m\n\u001b[1;32m   2533\u001b[0m             \u001b[0mA\u001b[0m\u001b[0;34m[\u001b[0m\u001b[0;34m:\u001b[0m\u001b[0;34m,\u001b[0m \u001b[0;36m0\u001b[0m\u001b[0;34m]\u001b[0m \u001b[0;34m=\u001b[0m \u001b[0mcast\u001b[0m\u001b[0;34m[\u001b[0m\u001b[0mdtype\u001b[0m\u001b[0;34m]\u001b[0m\u001b[0;34m(\u001b[0m\u001b[0marange\u001b[0m\u001b[0;34m(\u001b[0m\u001b[0;36m1\u001b[0m\u001b[0;34m,\u001b[0m \u001b[0mNpts\u001b[0m \u001b[0;34m+\u001b[0m \u001b[0;36m1\u001b[0m\u001b[0;34m)\u001b[0m \u001b[0;34m*\u001b[0m \u001b[0;36m1.0\u001b[0m \u001b[0;34m/\u001b[0m \u001b[0mNpts\u001b[0m\u001b[0;34m)\u001b[0m\u001b[0;34m\u001b[0m\u001b[0m\n\u001b[1;32m   2534\u001b[0m             \u001b[0msl\u001b[0m \u001b[0;34m=\u001b[0m \u001b[0mslice\u001b[0m\u001b[0;34m(\u001b[0m\u001b[0mbp\u001b[0m\u001b[0;34m[\u001b[0m\u001b[0mm\u001b[0m\u001b[0;34m]\u001b[0m\u001b[0;34m,\u001b[0m \u001b[0mbp\u001b[0m\u001b[0;34m[\u001b[0m\u001b[0mm\u001b[0m \u001b[0;34m+\u001b[0m \u001b[0;36m1\u001b[0m\u001b[0;34m]\u001b[0m\u001b[0;34m)\u001b[0m\u001b[0;34m\u001b[0m\u001b[0m\n\u001b[0;32m-> 2535\u001b[0;31m             \u001b[0mcoef\u001b[0m\u001b[0;34m,\u001b[0m \u001b[0mresids\u001b[0m\u001b[0;34m,\u001b[0m \u001b[0mrank\u001b[0m\u001b[0;34m,\u001b[0m \u001b[0ms\u001b[0m \u001b[0;34m=\u001b[0m \u001b[0mlinalg\u001b[0m\u001b[0;34m.\u001b[0m\u001b[0mlstsq\u001b[0m\u001b[0;34m(\u001b[0m\u001b[0mA\u001b[0m\u001b[0;34m,\u001b[0m \u001b[0mnewdata\u001b[0m\u001b[0;34m[\u001b[0m\u001b[0msl\u001b[0m\u001b[0;34m]\u001b[0m\u001b[0;34m)\u001b[0m\u001b[0;34m\u001b[0m\u001b[0m\n\u001b[0m\u001b[1;32m   2536\u001b[0m             \u001b[0mnewdata\u001b[0m\u001b[0;34m[\u001b[0m\u001b[0msl\u001b[0m\u001b[0;34m]\u001b[0m \u001b[0;34m=\u001b[0m \u001b[0mnewdata\u001b[0m\u001b[0;34m[\u001b[0m\u001b[0msl\u001b[0m\u001b[0;34m]\u001b[0m \u001b[0;34m-\u001b[0m \u001b[0mdot\u001b[0m\u001b[0;34m(\u001b[0m\u001b[0mA\u001b[0m\u001b[0;34m,\u001b[0m \u001b[0mcoef\u001b[0m\u001b[0;34m)\u001b[0m\u001b[0;34m\u001b[0m\u001b[0m\n\u001b[1;32m   2537\u001b[0m         \u001b[0;31m# Put data back in original shape.\u001b[0m\u001b[0;34m\u001b[0m\u001b[0;34m\u001b[0m\u001b[0m\n",
      "\u001b[0;32m/usr/local/lib/python2.7/dist-packages/scipy/linalg/basic.pyc\u001b[0m in \u001b[0;36mlstsq\u001b[0;34m(a, b, cond, overwrite_a, overwrite_b, check_finite, lapack_driver)\u001b[0m\n\u001b[1;32m   1153\u001b[0m     \"\"\"\n\u001b[1;32m   1154\u001b[0m     \u001b[0ma1\u001b[0m \u001b[0;34m=\u001b[0m \u001b[0m_asarray_validated\u001b[0m\u001b[0;34m(\u001b[0m\u001b[0ma\u001b[0m\u001b[0;34m,\u001b[0m \u001b[0mcheck_finite\u001b[0m\u001b[0;34m=\u001b[0m\u001b[0mcheck_finite\u001b[0m\u001b[0;34m)\u001b[0m\u001b[0;34m\u001b[0m\u001b[0m\n\u001b[0;32m-> 1155\u001b[0;31m     \u001b[0mb1\u001b[0m \u001b[0;34m=\u001b[0m \u001b[0m_asarray_validated\u001b[0m\u001b[0;34m(\u001b[0m\u001b[0mb\u001b[0m\u001b[0;34m,\u001b[0m \u001b[0mcheck_finite\u001b[0m\u001b[0;34m=\u001b[0m\u001b[0mcheck_finite\u001b[0m\u001b[0;34m)\u001b[0m\u001b[0;34m\u001b[0m\u001b[0m\n\u001b[0m\u001b[1;32m   1156\u001b[0m     \u001b[0;32mif\u001b[0m \u001b[0mlen\u001b[0m\u001b[0;34m(\u001b[0m\u001b[0ma1\u001b[0m\u001b[0;34m.\u001b[0m\u001b[0mshape\u001b[0m\u001b[0;34m)\u001b[0m \u001b[0;34m!=\u001b[0m \u001b[0;36m2\u001b[0m\u001b[0;34m:\u001b[0m\u001b[0;34m\u001b[0m\u001b[0m\n\u001b[1;32m   1157\u001b[0m         \u001b[0;32mraise\u001b[0m \u001b[0mValueError\u001b[0m\u001b[0;34m(\u001b[0m\u001b[0;34m'expected matrix'\u001b[0m\u001b[0;34m)\u001b[0m\u001b[0;34m\u001b[0m\u001b[0m\n",
      "\u001b[0;32m/usr/local/lib/python2.7/dist-packages/scipy/_lib/_util.pyc\u001b[0m in \u001b[0;36m_asarray_validated\u001b[0;34m(a, check_finite, sparse_ok, objects_ok, mask_ok, as_inexact)\u001b[0m\n\u001b[1;32m    236\u001b[0m             \u001b[0;32mraise\u001b[0m \u001b[0mValueError\u001b[0m\u001b[0;34m(\u001b[0m\u001b[0;34m'masked arrays are not supported'\u001b[0m\u001b[0;34m)\u001b[0m\u001b[0;34m\u001b[0m\u001b[0m\n\u001b[1;32m    237\u001b[0m     \u001b[0mtoarray\u001b[0m \u001b[0;34m=\u001b[0m \u001b[0mnp\u001b[0m\u001b[0;34m.\u001b[0m\u001b[0masarray_chkfinite\u001b[0m \u001b[0;32mif\u001b[0m \u001b[0mcheck_finite\u001b[0m \u001b[0;32melse\u001b[0m \u001b[0mnp\u001b[0m\u001b[0;34m.\u001b[0m\u001b[0masarray\u001b[0m\u001b[0;34m\u001b[0m\u001b[0m\n\u001b[0;32m--> 238\u001b[0;31m     \u001b[0ma\u001b[0m \u001b[0;34m=\u001b[0m \u001b[0mtoarray\u001b[0m\u001b[0;34m(\u001b[0m\u001b[0ma\u001b[0m\u001b[0;34m)\u001b[0m\u001b[0;34m\u001b[0m\u001b[0m\n\u001b[0m\u001b[1;32m    239\u001b[0m     \u001b[0;32mif\u001b[0m \u001b[0;32mnot\u001b[0m \u001b[0mobjects_ok\u001b[0m\u001b[0;34m:\u001b[0m\u001b[0;34m\u001b[0m\u001b[0m\n\u001b[1;32m    240\u001b[0m         \u001b[0;32mif\u001b[0m \u001b[0ma\u001b[0m\u001b[0;34m.\u001b[0m\u001b[0mdtype\u001b[0m \u001b[0;32mis\u001b[0m \u001b[0mnp\u001b[0m\u001b[0;34m.\u001b[0m\u001b[0mdtype\u001b[0m\u001b[0;34m(\u001b[0m\u001b[0;34m'O'\u001b[0m\u001b[0;34m)\u001b[0m\u001b[0;34m:\u001b[0m\u001b[0;34m\u001b[0m\u001b[0m\n",
      "\u001b[0;32m/usr/local/lib/python2.7/dist-packages/numpy/lib/function_base.pyc\u001b[0m in \u001b[0;36masarray_chkfinite\u001b[0;34m(a, dtype, order)\u001b[0m\n\u001b[1;32m    459\u001b[0m     \u001b[0;32mif\u001b[0m \u001b[0ma\u001b[0m\u001b[0;34m.\u001b[0m\u001b[0mdtype\u001b[0m\u001b[0;34m.\u001b[0m\u001b[0mchar\u001b[0m \u001b[0;32min\u001b[0m \u001b[0mtypecodes\u001b[0m\u001b[0;34m[\u001b[0m\u001b[0;34m'AllFloat'\u001b[0m\u001b[0;34m]\u001b[0m \u001b[0;32mand\u001b[0m \u001b[0;32mnot\u001b[0m \u001b[0mnp\u001b[0m\u001b[0;34m.\u001b[0m\u001b[0misfinite\u001b[0m\u001b[0;34m(\u001b[0m\u001b[0ma\u001b[0m\u001b[0;34m)\u001b[0m\u001b[0;34m.\u001b[0m\u001b[0mall\u001b[0m\u001b[0;34m(\u001b[0m\u001b[0;34m)\u001b[0m\u001b[0;34m:\u001b[0m\u001b[0;34m\u001b[0m\u001b[0m\n\u001b[1;32m    460\u001b[0m         raise ValueError(\n\u001b[0;32m--> 461\u001b[0;31m             \"array must not contain infs or NaNs\")\n\u001b[0m\u001b[1;32m    462\u001b[0m     \u001b[0;32mreturn\u001b[0m \u001b[0ma\u001b[0m\u001b[0;34m\u001b[0m\u001b[0m\n\u001b[1;32m    463\u001b[0m \u001b[0;34m\u001b[0m\u001b[0m\n",
      "\u001b[0;31mValueError\u001b[0m: array must not contain infs or NaNs"
     ]
    }
   ],
   "source": [
    "# preprocessing - demean and detrend \n",
    "C_avg = C_avg[50000:250000]\n",
    "C_avg = C_avg - np.mean(C_avg)\n",
    "C_avg = sp.detrend(C_avg)\n",
    "len(C_avg)"
   ]
  },
  {
   "cell_type": "code",
   "execution_count": 928,
   "metadata": {},
   "outputs": [],
   "source": [
    "#Plot FFT (Power spectrum)\n",
    "# pl.close()\n",
    "pl.figure()\n",
    "Fs = 100000.0\n",
    "Ts = 1.0/Fs\n",
    "\n",
    "n = len(C_avg)\n",
    "k = np.arange(n)\n",
    "T = n/Fs\n",
    "frq = k/T\n",
    "frq = frq[range(n/2)]\n",
    "FFT_LFP = np.fft.fft(C_avg)/n\n",
    "FFT_LFP = FFT_LFP[range(n/2)]\n",
    "FFT_LFP = FFT_LFP**2\n",
    "pl.plot(frq[3:200], abs(FFT_LFP[3:200])) #frq[0:x] frq goes upto x/time(in seconds)\n",
    "pl.ylabel('FFT of LFP')\n",
    "pl.xlabel('Frequency')\n",
    "pl.title(\"FFT Spectrum of LFP\")\n",
    "pl.savefig('Figures/Frequency Spectrum of LFP.png')"
   ]
  },
  {
   "cell_type": "code",
   "execution_count": 917,
   "metadata": {},
   "outputs": [
    {
     "data": {
      "text/plain": [
       "<matplotlib.collections.QuadMesh at 0x7f4cad767ad0>"
      ]
     },
     "execution_count": 917,
     "metadata": {},
     "output_type": "execute_result"
    }
   ],
   "source": [
    "f, t, Sxx = sp.spectrogram(C_avg, 100.0)\n",
    "pl.pcolormesh(t, f, Sxx)"
   ]
  },
  {
   "cell_type": "code",
   "execution_count": 916,
   "metadata": {},
   "outputs": [
    {
     "data": {
      "text/plain": [
       "(200000,)"
      ]
     },
     "execution_count": 916,
     "metadata": {},
     "output_type": "execute_result"
    }
   ],
   "source": []
  },
  {
   "cell_type": "code",
   "execution_count": 853,
   "metadata": {},
   "outputs": [
    {
     "name": "stdout",
     "output_type": "stream",
     "text": [
      "[-1.21265960e-17-3.44649208e-05j  3.14157710e-04-8.01433276e-05j\n",
      "  6.28306087e-04-1.23282959e-04j ... -9.42383477e-04+1.18025980e-04j\n",
      " -6.28292413e-04+6.45987857e-05j -3.14156640e-04+1.37744543e-05j]\n"
     ]
    }
   ],
   "source": []
  },
  {
   "cell_type": "code",
   "execution_count": 44,
   "metadata": {},
   "outputs": [],
   "source": [
    "pl.close()"
   ]
  },
  {
   "cell_type": "code",
   "execution_count": null,
   "metadata": {
    "scrolled": true
   },
   "outputs": [],
   "source": []
  },
  {
   "cell_type": "code",
   "execution_count": 938,
   "metadata": {},
   "outputs": [
    {
     "name": "stdout",
     "output_type": "stream",
     "text": [
      "(300000, 90)\n",
      "(300000, 30)\n"
     ]
    }
   ],
   "source": [
    "### raster Data \n",
    "rasterData_PN = np.zeros((300000,90))\n",
    "\n",
    "for i in range(0,90):\n",
    "    a,_ = sp.find_peaks(V[:,i], height = 35)\n",
    "    rasterData_PN[a,i] = 1\n",
    "    \n",
    "print rasterData_PN.shape\n",
    "\n",
    "rasterData_LN = np.zeros((300000,30))\n",
    "\n",
    "for i in range(0,30):\n",
    "    a,_ = sp.find_peaks(V[:,i+90], height = -20)\n",
    "    rasterData_LN[a,i] = 1\n",
    "    \n",
    "print rasterData_LN.shape"
   ]
  },
  {
   "cell_type": "code",
   "execution_count": null,
   "metadata": {},
   "outputs": [],
   "source": []
  },
  {
   "cell_type": "code",
   "execution_count": null,
   "metadata": {},
   "outputs": [],
   "source": []
  },
  {
   "cell_type": "code",
   "execution_count": 939,
   "metadata": {},
   "outputs": [],
   "source": [
    "pl.close()\n",
    "C_avg = np.average(V[:,spiking_neurons[0,:]], 1)\n",
    "pl.plot(time,C_avg)\n",
    "pl.grid(True)\n",
    "pl.title('LFP')\n",
    "manager = pl.get_current_fig_manager()\n",
    "manager.resize(*manager.window.maxsize())\n",
    "C_avg = C_avg - np.mean(C_avg)\n",
    "C_avg = sp.detrend(C_avg)\n",
    "\n"
   ]
  },
  {
   "cell_type": "code",
   "execution_count": 873,
   "metadata": {},
   "outputs": [
    {
     "data": {
      "text/plain": [
       "Text(0.5,1,'FFT Spectrum of LFP')"
      ]
     },
     "execution_count": 873,
     "metadata": {},
     "output_type": "execute_result"
    }
   ],
   "source": [
    "pl.close()\n",
    "Fs = 100000.0\n",
    "Ts = 1.0/Fs\n",
    "\n",
    "n = len(C_avg)\n",
    "k = np.arange(n)\n",
    "T = n/Fs\n",
    "frq = k/T\n",
    "frq = frq[range(n/2)]\n",
    "FFT_LFP = np.fft.fft(C_avg)/n\n",
    "\n",
    "FFT_LFP = FFT_LFP[range(n/2)]\n",
    "pl.plot(frq[3:270], abs(FFT_LFP[3:270])) #frq[0:x] frq goes upto x/time(in seconds)\n",
    "pl.ylabel('FFT of LFP')\n",
    "pl.xlabel('Frequency')\n",
    "pl.title(\"FFT Spectrum of LFP\")"
   ]
  },
  {
   "cell_type": "code",
   "execution_count": 381,
   "metadata": {},
   "outputs": [],
   "source": [
    "# plot - raster plot\n",
    "\n",
    "#plot_neuron = [15, 18, 19, 21, 45]\n",
    "#plot_neuron = spiking_neurons[0,:5]\n",
    "#for p in range(0,len(plot_neuron)):\n",
    "#    pl.subplot(len(plot_neuron),1,p+1)\n",
    "#    pl.plot(np.arange(300000),rasterData[:,plot_neuron[p]])\n",
    "#    pl.title(\"Neuron no - {}\".format(plot_neuron[p]))\n",
    "\n",
    "    \n",
    "    \n",
    "#manager = plt.get_current_fig_manager()\n",
    "#manager.resize(*manager.window.maxsize())    \n",
    "#pl.suptitle(\"Raster plots\", fontsize=16)\n",
    "#pl.savefig(\"Figures/Raster plots.png\")\n"
   ]
  },
  {
   "cell_type": "code",
   "execution_count": 940,
   "metadata": {},
   "outputs": [],
   "source": [
    "# Nice raster plot \n",
    "pl.spy(np.transpose(rasterData_PN), aspect='auto', markersize = 7)\n",
    "pl.show()\n",
    "manager = pl.get_current_fig_manager()\n",
    "manager.resize(*manager.window.maxsize())\n",
    "\n",
    "pl.title(\"Raster plot_PN\")\n",
    "pl.savefig(\"Figures/Raster plot_PN.png\")"
   ]
  },
  {
   "cell_type": "code",
   "execution_count": 941,
   "metadata": {},
   "outputs": [],
   "source": [
    "pl.spy(np.transpose(rasterData_LN), aspect='auto', markersize = 7)\n",
    "pl.show()\n",
    "manager = pl.get_current_fig_manager()\n",
    "manager.resize(*manager.window.maxsize())\n",
    "\n",
    "pl.title(\"Raster plot_LN\")\n",
    "pl.savefig(\"Figures/Raster plot_LN.png\")"
   ]
  },
  {
   "cell_type": "code",
   "execution_count": 942,
   "metadata": {},
   "outputs": [
    {
     "data": {
      "text/plain": [
       "(64791, 10)"
      ]
     },
     "execution_count": 942,
     "metadata": {},
     "output_type": "execute_result"
    }
   ],
   "source": [
    "#PCA of the PN voltages\n",
    "\n",
    "pca = PCA(n_components=10)\n",
    "pc = pca.fit_transform(v_PN[:,spiking_neurons[0,:]])\n",
    "pc.shape"
   ]
  },
  {
   "cell_type": "code",
   "execution_count": 487,
   "metadata": {},
   "outputs": [
    {
     "data": {
      "text/plain": [
       "[<matplotlib.lines.Line2D at 0x7f4cb53eb310>]"
      ]
     },
     "execution_count": 487,
     "metadata": {},
     "output_type": "execute_result"
    }
   ],
   "source": []
  },
  {
   "cell_type": "code",
   "execution_count": 817,
   "metadata": {},
   "outputs": [
    {
     "data": {
      "text/plain": [
       "[<matplotlib.lines.Line2D at 0x7f16e0387850>]"
      ]
     },
     "execution_count": 817,
     "metadata": {},
     "output_type": "execute_result"
    }
   ],
   "source": [
    "pl.plot(pc[:,0], pc[:,1])"
   ]
  },
  {
   "cell_type": "code",
   "execution_count": 49,
   "metadata": {},
   "outputs": [
    {
     "data": {
      "text/plain": [
       "0.5251670383832592"
      ]
     },
     "execution_count": 49,
     "metadata": {},
     "output_type": "execute_result"
    }
   ],
   "source": [
    "sum(pca.explained_variance_ratio_)"
   ]
  },
  {
   "cell_type": "code",
   "execution_count": null,
   "metadata": {},
   "outputs": [],
   "source": [
    "from scipy.signal import butter, lfilter\n",
    "\n",
    "def butter_bandpass(lowcut, highcut, fs, order=5):\n",
    "    nyq = 0.5 * fs\n",
    "    low = lowcut / nyq\n",
    "    high = highcut / nyq\n",
    "    b, a = butter(order, [low, high], btype='band')\n",
    "    return b, a\n",
    "\n",
    "\n",
    "def butter_bandpass_filter(data, lowcut, highcut, fs, order=5):\n",
    "    b, a = butter_bandpass(lowcut, highcut, fs, order=order)\n",
    "    y = lfilter(b, a, data)\n",
    "    return y\n"
   ]
  }
 ],
 "metadata": {
  "kernelspec": {
   "display_name": "Python 2",
   "language": "python",
   "name": "python2"
  },
  "language_info": {
   "codemirror_mode": {
    "name": "ipython",
    "version": 2
   },
   "file_extension": ".py",
   "mimetype": "text/x-python",
   "name": "python",
   "nbconvert_exporter": "python",
   "pygments_lexer": "ipython2",
   "version": "2.7.12"
  }
 },
 "nbformat": 4,
 "nbformat_minor": 2
}
