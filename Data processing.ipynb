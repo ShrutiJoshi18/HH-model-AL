{
 "cells": [
  {
   "cell_type": "code",
   "execution_count": 4,
   "metadata": {},
   "outputs": [],
   "source": [
    "import pandas as pd\n",
    "import os\n",
    "import numpy as np\n",
    "import scipy.signal as sp\n",
    "import matplotlib.pyplot as pl\n",
    "import peakutils\n",
    "from sklearn.decomposition import PCA\n",
    "import datetime"
   ]
  },
  {
   "cell_type": "code",
   "execution_count": 6,
   "metadata": {},
   "outputs": [
    {
     "name": "stdout",
     "output_type": "stream",
     "text": [
      "/home/shruti/Documents/AL_120n_parallelised\n"
     ]
    }
   ],
   "source": [
    "%cd AL_120n_parallelised"
   ]
  },
  {
   "cell_type": "code",
   "execution_count": 1,
   "metadata": {},
   "outputs": [
    {
     "name": "stdout",
     "output_type": "stream",
     "text": [
      "/home/shruti/Documents/AL_120n_parallelised/2018-11-02_run1\n"
     ]
    }
   ],
   "source": [
    "%cd 2018-11-02_run1/"
   ]
  },
  {
   "cell_type": "code",
   "execution_count": 5,
   "metadata": {},
   "outputs": [],
   "source": [
    "df = pd.read_csv('final_120n.csv')"
   ]
  },
  {
   "cell_type": "code",
   "execution_count": 6,
   "metadata": {},
   "outputs": [
    {
     "data": {
      "text/plain": [
       "[RangeIndex(start=0, stop=268504, step=1),\n",
       " Index([u'time', u'n0v', u'n1v', u'n2v', u'n3v', u'n4v', u'n5v', u'n6v', u'n7v',\n",
       "        u'n8v',\n",
       "        ...\n",
       "        u'n110v', u'n111v', u'n112v', u'n113v', u'n114v', u'n115v', u'n116v',\n",
       "        u'n117v', u'n118v', u'n119v'],\n",
       "       dtype='object', length=121)]"
      ]
     },
     "execution_count": 6,
     "metadata": {},
     "output_type": "execute_result"
    }
   ],
   "source": [
    "df.axes"
   ]
  },
  {
   "cell_type": "code",
   "execution_count": 7,
   "metadata": {},
   "outputs": [],
   "source": [
    "V = df.values[:,1:]\n",
    "time = df.values[:,0]\n",
    "time = time/1000\n",
    "v_PN = V[:,:90]\n",
    "v_LN = V[:,91:]"
   ]
  },
  {
   "cell_type": "code",
   "execution_count": 8,
   "metadata": {},
   "outputs": [
    {
     "name": "stdout",
     "output_type": "stream",
     "text": [
      "(array([23, 25, 26, 27, 28, 29, 30, 31, 32, 33, 34, 35, 36, 37, 38, 39, 40,\n",
      "       41, 42, 43, 44, 45, 46, 47, 48, 49, 50, 51, 52, 53, 54, 55, 56, 57,\n",
      "       58, 59, 60, 61, 62, 63, 64, 65, 66, 67]),)\n",
      "44\n",
      "(1, 44)\n"
     ]
    }
   ],
   "source": [
    "# which neurons are spiking? PN\n",
    "\n",
    "num_spikingneurons = np.zeros(120)\n",
    "for i in range(0,120):\n",
    "    a,_ = sp.find_peaks(V[1000:,i], height = 35)\n",
    "    if len(a):\n",
    "        num_spikingneurons[i] = 1\n",
    "print np.nonzero(num_spikingneurons)\n",
    "print np.count_nonzero(num_spikingneurons)\n",
    "\n",
    "spiking_neurons = np.array(np.nonzero(num_spikingneurons))\n",
    "print spiking_neurons.shape"
   ]
  },
  {
   "cell_type": "code",
   "execution_count": 9,
   "metadata": {},
   "outputs": [
    {
     "name": "stdout",
     "output_type": "stream",
     "text": [
      "(array([ 90,  91,  92,  93,  94,  95,  96,  97,  98,  99, 100, 101, 102,\n",
      "       103, 104, 105, 106, 107, 108, 109, 110, 111, 112, 113, 114, 115,\n",
      "       116, 117, 118, 119]),)\n",
      "30\n",
      "(1, 30)\n"
     ]
    }
   ],
   "source": [
    "# which neurons are spiking? LN\n",
    "\n",
    "num_spikingneurons_LN = np.zeros(120)\n",
    "for i in range(90,120):\n",
    "    a,_ = sp.find_peaks(V[1000:,i], height = -20)\n",
    "    if len(a):\n",
    "        num_spikingneurons_LN[i] = 1\n",
    "print np.nonzero(num_spikingneurons_LN)\n",
    "print np.count_nonzero(num_spikingneurons_LN)\n",
    "\n",
    "spiking_neurons_LN = np.array(np.nonzero(num_spikingneurons_LN))\n",
    "print spiking_neurons_LN.shape"
   ]
  },
  {
   "cell_type": "code",
   "execution_count": 10,
   "metadata": {},
   "outputs": [
    {
     "name": "stdout",
     "output_type": "stream",
     "text": [
      "Using matplotlib backend: TkAgg\n"
     ]
    }
   ],
   "source": [
    "#PN plot\n",
    "%matplotlib\n",
    "for i in range (0,5):\n",
    "    pl.subplot(5,1,i+1)\n",
    "    pl.plot(time,v_PN[:,spiking_neurons[0,i+9]])\n",
    "    pl.title(\"Voltage PN - Number {}.png\".format(spiking_neurons[0,i]))\n",
    "    \n",
    "pl.savefig(\"Figures/Voltage PN\")"
   ]
  },
  {
   "cell_type": "code",
   "execution_count": 11,
   "metadata": {},
   "outputs": [],
   "source": [
    "#LN plot\n",
    "\n",
    "for i in range (0,5):\n",
    "    pl.subplot(5,1,i+1)\n",
    "    pl.plot(time,v_LN[:,spiking_neurons_LN[0,i+9]-90])\n",
    "    pl.title(\"Voltage LN - Number {}.png\".format(spiking_neurons_LN[0,i+9]))\n",
    "    \n",
    "pl.savefig(\"Figures/Voltage LN\")"
   ]
  },
  {
   "cell_type": "code",
   "execution_count": 48,
   "metadata": {},
   "outputs": [
    {
     "name": "stdout",
     "output_type": "stream",
     "text": [
      "Using matplotlib backend: TkAgg\n"
     ]
    }
   ],
   "source": [
    "#plot PN voltage\n",
    "\n",
    "%matplotlib\n",
    "PN_no = 43\n",
    "pl.plot(time,v_PN[:,PN_no])\n",
    "pl.title(\"Voltage PN - Number {}.png\".format(PN_no))\n",
    "pl.savefig(\"Figures/Voltage PN - Number {}.png\".format(PN_no))\n",
    "#pl.plot(A,M[:,2])\n",
    "#pl.plot(A,M[:,4])\n",
    "#pl.plot(A,M[:,41])"
   ]
  },
  {
   "cell_type": "code",
   "execution_count": 1123,
   "metadata": {},
   "outputs": [],
   "source": [
    "# plot LN voltage\n",
    "pl.close()\n",
    "LN_no = 12\n",
    "pl.plot(time,v_LN[:,LN_no])\n",
    "pl.title(\"Voltage LN - Number {}.png\".format(LN_no))\n",
    "pl.savefig(\"Figures/Voltage LN - Number {}.png\".format(LN_no))"
   ]
  },
  {
   "cell_type": "code",
   "execution_count": 12,
   "metadata": {
    "scrolled": true
   },
   "outputs": [
    {
     "name": "stdout",
     "output_type": "stream",
     "text": [
      "268504\n"
     ]
    }
   ],
   "source": [
    "# plot LFP\n",
    "pl.close()\n",
    "C_avg = np.average(V[:,0:90], 1)\n",
    "pl.plot(time,C_avg)\n",
    "pl.grid(True)\n",
    "pl.title('LFP')\n",
    "manager = pl.get_current_fig_manager()\n",
    "manager.resize(*manager.window.maxsize())\n",
    "\n",
    "print len(C_avg)\n",
    "pl.savefig('Figures/LFP.png')"
   ]
  },
  {
   "cell_type": "code",
   "execution_count": 13,
   "metadata": {},
   "outputs": [
    {
     "data": {
      "text/plain": [
       "200000"
      ]
     },
     "execution_count": 13,
     "metadata": {},
     "output_type": "execute_result"
    }
   ],
   "source": [
    "# preprocessing - demean and detrend \n",
    "C_avg = C_avg[50000:250000]\n",
    "C_avg = C_avg - np.mean(C_avg)\n",
    "C_avg = sp.detrend(C_avg)\n",
    "len(C_avg)"
   ]
  },
  {
   "cell_type": "code",
   "execution_count": 14,
   "metadata": {},
   "outputs": [],
   "source": [
    "#Plot FFT (Power spectrum)\n",
    "# pl.close()\n",
    "pl.figure()\n",
    "Fs = 100000.0\n",
    "Ts = 1.0/Fs\n",
    "\n",
    "n = len(C_avg)\n",
    "k = np.arange(n)\n",
    "T = n/Fs\n",
    "frq = k/T\n",
    "frq = frq[range(n/2)]\n",
    "FFT_LFP = np.fft.fft(C_avg)/n\n",
    "FFT_LFP = FFT_LFP[range(n/2)]\n",
    "FFT_LFP = FFT_LFP**2\n",
    "pl.plot(frq[3:200], abs(FFT_LFP[3:200])) #frq[0:x] frq goes upto x/time(in seconds)\n",
    "pl.ylabel('FFT of LFP')\n",
    "pl.xlabel('Frequency')\n",
    "pl.title(\"FFT Spectrum of LFP\")\n",
    "pl.savefig('Figures/Frequency Spectrum of LFP.png')"
   ]
  },
  {
   "cell_type": "code",
   "execution_count": 1127,
   "metadata": {},
   "outputs": [],
   "source": [
    "pl.close()"
   ]
  },
  {
   "cell_type": "code",
   "execution_count": null,
   "metadata": {
    "scrolled": true
   },
   "outputs": [],
   "source": []
  },
  {
   "cell_type": "code",
   "execution_count": 15,
   "metadata": {},
   "outputs": [
    {
     "name": "stdout",
     "output_type": "stream",
     "text": [
      "(300000, 90)\n",
      "(300000, 30)\n"
     ]
    }
   ],
   "source": [
    "### raster Data \n",
    "rasterData_PN = np.zeros((300000,90))\n",
    "\n",
    "for i in range(0,90):\n",
    "    a,_ = sp.find_peaks(V[:,i], height = 35)\n",
    "    rasterData_PN[a,i] = 1\n",
    "    \n",
    "print rasterData_PN.shape\n",
    "\n",
    "rasterData_LN = np.zeros((300000,30))\n",
    "\n",
    "for i in range(0,30):\n",
    "    a,_ = sp.find_peaks(V[:,i+90], height = -20)\n",
    "    rasterData_LN[a,i] = 1\n",
    "    \n",
    "print rasterData_LN.shape"
   ]
  },
  {
   "cell_type": "code",
   "execution_count": null,
   "metadata": {},
   "outputs": [],
   "source": []
  },
  {
   "cell_type": "code",
   "execution_count": null,
   "metadata": {},
   "outputs": [],
   "source": []
  },
  {
   "cell_type": "code",
   "execution_count": null,
   "metadata": {},
   "outputs": [],
   "source": [
    "pl.close()\n",
    "C_avg = np.average(V[:,spiking_neurons[0,:]], 1)\n",
    "pl.plot(time,C_avg)\n",
    "pl.grid(True)\n",
    "pl.title('LFP')\n",
    "manager = pl.get_current_fig_manager()\n",
    "manager.resize(*manager.window.maxsize())\n",
    "C_avg = C_avg - np.mean(C_avg)\n",
    "C_avg = sp.detrend(C_avg)\n",
    "\n"
   ]
  },
  {
   "cell_type": "code",
   "execution_count": 873,
   "metadata": {},
   "outputs": [
    {
     "data": {
      "text/plain": [
       "Text(0.5,1,'FFT Spectrum of LFP')"
      ]
     },
     "execution_count": 873,
     "metadata": {},
     "output_type": "execute_result"
    }
   ],
   "source": [
    "pl.close()\n",
    "Fs = 100000.0\n",
    "Ts = 1.0/Fs\n",
    "\n",
    "n = len(C_avg)\n",
    "k = np.arange(n)\n",
    "T = n/Fs\n",
    "frq = k/T\n",
    "frq = frq[range(n/2)]\n",
    "FFT_LFP = np.fft.fft(C_avg)/n\n",
    "\n",
    "FFT_LFP = FFT_LFP[range(n/2)]\n",
    "pl.plot(frq[3:270], abs(FFT_LFP[3:270])) #frq[0:x] frq goes upto x/time(in seconds)\n",
    "pl.ylabel('FFT of LFP')\n",
    "pl.xlabel('Frequency')\n",
    "pl.title(\"FFT Spectrum of LFP\")"
   ]
  },
  {
   "cell_type": "code",
   "execution_count": 381,
   "metadata": {},
   "outputs": [],
   "source": [
    "# plot - raster plot\n",
    "\n",
    "#plot_neuron = [15, 18, 19, 21, 45]\n",
    "#plot_neuron = spiking_neurons[0,:5]\n",
    "#for p in range(0,len(plot_neuron)):\n",
    "#    pl.subplot(len(plot_neuron),1,p+1)\n",
    "#    pl.plot(np.arange(300000),rasterData[:,plot_neuron[p]])\n",
    "#    pl.title(\"Neuron no - {}\".format(plot_neuron[p]))\n",
    "\n",
    "    \n",
    "    \n",
    "#manager = plt.get_current_fig_manager()\n",
    "#manager.resize(*manager.window.maxsize())    \n",
    "#pl.suptitle(\"Raster plots\", fontsize=16)\n",
    "#pl.savefig(\"Figures/Raster plots.png\")\n"
   ]
  },
  {
   "cell_type": "code",
   "execution_count": 16,
   "metadata": {},
   "outputs": [],
   "source": [
    "# Nice raster plot \n",
    "pl.spy(np.transpose(rasterData_PN), aspect='auto', markersize = 7)\n",
    "pl.show()\n",
    "manager = pl.get_current_fig_manager()\n",
    "manager.resize(*manager.window.maxsize())\n",
    "\n",
    "pl.title(\"Raster plot_PN\")\n",
    "pl.savefig(\"Figures/Raster plot_PN.png\")"
   ]
  },
  {
   "cell_type": "code",
   "execution_count": 23,
   "metadata": {},
   "outputs": [],
   "source": [
    "pl.spy(np.transpose(rasterData_LN), aspect='auto', markersize = 7)\n",
    "pl.show()\n",
    "manager = pl.get_current_fig_manager()\n",
    "manager.resize(*manager.window.maxsize())\n",
    "\n",
    "pl.title(\"Raster plot_LN\")\n",
    "pl.savefig(\"Figures/Raster plot_LN.png\")"
   ]
  },
  {
   "cell_type": "code",
   "execution_count": 24,
   "metadata": {},
   "outputs": [
    {
     "data": {
      "text/plain": [
       "(300000, 10)"
      ]
     },
     "execution_count": 24,
     "metadata": {},
     "output_type": "execute_result"
    }
   ],
   "source": [
    "#PCA of the PN voltages\n",
    "\n",
    "pca = PCA(n_components=10)\n",
    "pc = pca.fit_transform(v_PN[:,spiking_neurons[0,:]])\n",
    "pc.shape"
   ]
  },
  {
   "cell_type": "code",
   "execution_count": null,
   "metadata": {},
   "outputs": [],
   "source": []
  },
  {
   "cell_type": "code",
   "execution_count": 817,
   "metadata": {},
   "outputs": [
    {
     "data": {
      "text/plain": [
       "[<matplotlib.lines.Line2D at 0x7f16e0387850>]"
      ]
     },
     "execution_count": 817,
     "metadata": {},
     "output_type": "execute_result"
    }
   ],
   "source": [
    "pl.plot(pc[:,0], pc[:,1])"
   ]
  },
  {
   "cell_type": "code",
   "execution_count": 25,
   "metadata": {},
   "outputs": [
    {
     "data": {
      "text/plain": [
       "0.8364260549345861"
      ]
     },
     "execution_count": 25,
     "metadata": {},
     "output_type": "execute_result"
    }
   ],
   "source": [
    "sum(pca.explained_variance_ratio_)"
   ]
  },
  {
   "cell_type": "code",
   "execution_count": null,
   "metadata": {},
   "outputs": [],
   "source": [
    "from scipy.signal import butter, lfilter\n",
    "\n",
    "def butter_bandpass(lowcut, highcut, fs, order=5):\n",
    "    nyq = 0.5 * fs\n",
    "    low = lowcut / nyq\n",
    "    high = highcut / nyq\n",
    "    b, a = butter(order, [low, high], btype='band')\n",
    "    return b, a\n",
    "\n",
    "\n",
    "def butter_bandpass_filter(data, lowcut, highcut, fs, order=5):\n",
    "    b, a = butter_bandpass(lowcut, highcut, fs, order=order)\n",
    "    y = lfilter(b, a, data)\n",
    "    return y\n"
   ]
  }
 ],
 "metadata": {
  "kernelspec": {
   "display_name": "Python 2",
   "language": "python",
   "name": "python2"
  },
  "language_info": {
   "codemirror_mode": {
    "name": "ipython",
    "version": 2
   },
   "file_extension": ".py",
   "mimetype": "text/x-python",
   "name": "python",
   "nbconvert_exporter": "python",
   "pygments_lexer": "ipython2",
   "version": "2.7.12"
  }
 },
 "nbformat": 4,
 "nbformat_minor": 2
}
