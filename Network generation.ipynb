{
 "cells": [
  {
   "cell_type": "code",
   "execution_count": 195,
   "metadata": {},
   "outputs": [],
   "source": [
    "import scipy as sp\n",
    "import os\n",
    "import numpy as np\n",
    "import csv\n",
    "import matplotlib.pyplot as pl\n",
    "import datetime\n",
    "import json\n",
    "import shutil\n",
    "import time\n",
    "\n"
   ]
  },
  {
   "cell_type": "code",
   "execution_count": 196,
   "metadata": {},
   "outputs": [
    {
     "name": "stdout",
     "output_type": "stream",
     "text": [
      "/home/shruti/Documents/AL_120n_parallelised\n"
     ]
    }
   ],
   "source": [
    "!pwd"
   ]
  },
  {
   "cell_type": "code",
   "execution_count": 197,
   "metadata": {},
   "outputs": [],
   "source": [
    "def gaussian(x, mu, sig):\n",
    "    return np.exp(-np.power(x - mu, 2.) / (2 * np.power(sig, 2.)))"
   ]
  },
  {
   "cell_type": "code",
   "execution_count": 199,
   "metadata": {},
   "outputs": [],
   "source": [
    "# Get parameters\n",
    "\n",
    "with open('input_modelparams.json', 'r') as read_file:\n",
    "    params = json.load(read_file)"
   ]
  },
  {
   "cell_type": "code",
   "execution_count": 200,
   "metadata": {},
   "outputs": [
    {
     "data": {
      "text/plain": [
       "{u'I_extDC_LN': 0.5,\n",
       " u'I_extDC_PN': 1,\n",
       " u'dF_fGABA': 0.15,\n",
       " u'dF_nACH': 0.025,\n",
       " u'dF_sGABA': 0.005,\n",
       " u'gsyn_LNLN_fast': 0.1,\n",
       " u'gsyn_LNLN_fast_paper': 0.4,\n",
       " u'gsyn_LNPN_fast': 0.3,\n",
       " u'gsyn_LNPN_fast_paper': 0.8,\n",
       " u'gsyn_LNPN_slow': 0.015,\n",
       " u'gsyn_LNPN_slow_paper': 0.015,\n",
       " u'gsyn_PNLN': 0.05,\n",
       " u'gsyn_PNLN_paper': 0.35,\n",
       " u'number_excited_LN': 30,\n",
       " u'number_excited_PN': 90,\n",
       " u'peakcurrent_LN': 4.0,\n",
       " u'peakcurrent_PN': 7.5,\n",
       " u'pulse_width': 2000,\n",
       " u'start_pulse': 500,\n",
       " u'time_start': 0,\n",
       " u'time_step': 0.01,\n",
       " u'time_stop': 3000}"
      ]
     },
     "execution_count": 200,
     "metadata": {},
     "output_type": "execute_result"
    }
   ],
   "source": [
    "params"
   ]
  },
  {
   "cell_type": "code",
   "execution_count": 201,
   "metadata": {},
   "outputs": [
    {
     "name": "stdout",
     "output_type": "stream",
     "text": [
      "2018-10-29_run1\n"
     ]
    }
   ],
   "source": [
    "# create new directory for every new run and save nsets and ssets in that\n",
    " \n",
    "date = datetime.date.today()\n",
    "#print date\n",
    "\n",
    "run_number = 1\n",
    "\n",
    "dir = \"{}_run{}\".format(date,run_number)\n",
    "print dir\n",
    "\n",
    "os.makedirs(dir)\n",
    "os.makedirs(\"{}/Figures\".format(dir))"
   ]
  },
  {
   "cell_type": "code",
   "execution_count": 202,
   "metadata": {},
   "outputs": [],
   "source": [
    "# make adjacency matrix\n",
    "n = 120\n",
    "p = 0.5\n",
    "adjacency = np.zeros((n,n))\n",
    "\n",
    "\n",
    "adjacency[:90,90:] = np.random.random_sample((90,30))\n",
    "adjacency[90:,:90] = np.random.random_sample((30,90))\n",
    "adjacency[90:,90:] = np.random.random_sample((30,30))\n",
    "\n",
    "\n",
    "for x in range(0,n):\n",
    "    for y in range(0,n):\n",
    "        if adjacency[x,y] > p:\n",
    "            adjacency[x,y] = 1\n",
    "        else:\n",
    "            adjacency[x,y] = 0\n",
    "            \n",
    "            \n",
    "np.fill_diagonal(adjacency, 0)\n",
    "#adjacency[0:90, 0:90] = 0\n",
    "\n",
    "# Draw graph\n",
    "#import graphviz as gv\n",
    "#g1 = gv.Digraph(format = 'svg', engine = 'circo')\n",
    "\n",
    "#for i in np.dstack(np.where(adjacency != 0))[0]:\n",
    " #   g1.edge('n{}'.format(i[0]), 'n{}'.format(i[1]))\n"
   ]
  },
  {
   "cell_type": "code",
   "execution_count": 203,
   "metadata": {},
   "outputs": [],
   "source": [
    "# # Synapse info\n",
    "# num_of_synapses = np.count_nonzero(adjacency)\n",
    "# synapse = np.nonzero(adjacency)\n",
    "\n",
    "# pre = synapse[0]\n",
    "# post = synapse[1]"
   ]
  },
  {
   "cell_type": "code",
   "execution_count": 204,
   "metadata": {},
   "outputs": [],
   "source": [
    "#nsets\n",
    "\n",
    "file = open(\"{}/nsets_120n.isf\".format(dir), \"w\")\n",
    "for i in range(0, n):\n",
    "    if i < 90:\n",
    "        file.write('\"PN {}\"\\n'.format(i))\n",
    "        file.write('\\t dxdt:6,\\n')\n",
    "        file.write('\\t v:-30,\\n')\n",
    "        file.write('\\t m:0,\\n')\n",
    "        file.write('\\t n:0,\\n')\n",
    "        file.write('\\t h:0,\\n')\n",
    "        file.write('\\t ma:0,\\n')\n",
    "        file.write('\\t ha:0,\\n')\n",
    "        file.write('\\t I_NA:0,\\n')\n",
    "        file.write('\\t I_K:0,\\n')\n",
    "        file.write('\\t I_A:0,\\n')\n",
    "        file.write('\\t I_LEAK:0,\\n')\n",
    "        file.write('\\t I_KLEAK:0,\\n')\n",
    "        file.write('\\t I_syn:0,\\n')\n",
    "        file.write('\\t I_ext:{},\\n'.format(params['I_extDC_PN']))\n",
    "        file.write('\\t last_spike:-10;\\n')\n",
    "        \n",
    "    else:\n",
    "        file.write('\"LN {}\"\\n'.format(i))\n",
    "        file.write('\\t dxdt:7,\\n')\n",
    "        file.write('\\t v:-30,\\n')\n",
    "        file.write('\\t mk:0,\\n')\n",
    "        file.write('\\t mca:0,\\n')\n",
    "        file.write('\\t hca:0,\\n')\n",
    "        file.write('\\t nk:0,\\n')\n",
    "        file.write('\\t CA_DRIVE:0.00024,\\n')\n",
    "        file.write('\\t I_KCA:0,\\n')\n",
    "        file.write('\\t I_CA:0,\\n')\n",
    "        file.write('\\t I_K_LN:0,\\n')\n",
    "        file.write('\\t I_syn:0,\\n')\n",
    "        file.write('\\t iext:{};\\n'.format(params['I_extDC_LN']))"
   ]
  },
  {
   "cell_type": "code",
   "execution_count": 205,
   "metadata": {},
   "outputs": [],
   "source": [
    "#copy paramter file to run folder\n",
    "file = \"input_modelparams.json\"\n",
    "shutil.copy(file, dir)"
   ]
  },
  {
   "cell_type": "code",
   "execution_count": 206,
   "metadata": {},
   "outputs": [
    {
     "name": "stdout",
     "output_type": "stream",
     "text": [
      "1330\n",
      "1334\n",
      "1760\n"
     ]
    }
   ],
   "source": [
    "PNPN = adjacency[:90,:90]\n",
    "PNLN = adjacency[:90,90:]\n",
    "LNPN = adjacency[90:,:90]\n",
    "LNLN = adjacency[90:,90:]\n",
    "\n",
    "# LN - PN syn\n",
    "sGABA_syn = adjacency[90:,:90]\n",
    "sGABA_syn_index = np.nonzero(adjacency[90:,:90])\n",
    "pre_sGABA = sGABA_syn_index[0]+90\n",
    "post_sGABA = sGABA_syn_index[1]\n",
    "print  np.count_nonzero(adjacency[90:,:90])\n",
    "\n",
    "# PN - LN syn\n",
    "nACH_syn = adjacency[:90,90:]\n",
    "nACH_syn_index = np.nonzero(adjacency[:90,90:])\n",
    "pre_nACH = nACH_syn_index[0]\n",
    "post_nACH = nACH_syn_index[1]+90\n",
    "print  np.count_nonzero(adjacency[:90,90:])\n",
    "\n",
    "# LN - PN and LN - LN syn\n",
    "fGABA_syn = adjacency[90:,:]\n",
    "fGABA_syn_index = np.nonzero(adjacency[90:,:])\n",
    "pre_fGABA = fGABA_syn_index[0]+90\n",
    "post_fGABA = fGABA_syn_index[1]\n",
    "print  np.count_nonzero(adjacency[90:,:])\n",
    "\n",
    "num_of_synapses = np.count_nonzero(sGABA_syn) + np.count_nonzero(nACH_syn) + np.count_nonzero(fGABA_syn)"
   ]
  },
  {
   "cell_type": "code",
   "execution_count": 261,
   "metadata": {},
   "outputs": [
    {
     "name": "stdout",
     "output_type": "stream",
     "text": [
      "1334 1760 1330\n"
     ]
    }
   ],
   "source": [
    "#ssets\n",
    "\n",
    "nACH = 0\n",
    "fGABA = 0\n",
    "sGABA = 0\n",
    "\n",
    "file = open(\"{}/ssets_120.isf\".format(dir,num_of_synapses), \"w\")\n",
    "\n",
    "for i in range(0, num_of_synapses):\n",
    "    \n",
    "    #nACH syn\n",
    "    if i in range(0, np.count_nonzero(nACH_syn)):\n",
    "        file.write('\"S {}\"\\n'.format(i))\n",
    "        file.write('\\t dxdt:1,\\n')\n",
    "        #file.write('\\t F:1,\\n')\n",
    "        #file.write('\\t F_i:1,\\n')\n",
    "        #file.write('\\t t_i:0,\\n')\n",
    "        file.write('\\t g1:0,\\n')\n",
    "        file.write('\\t gsyn:{},\\n'.format(params['gsyn_PNLN'])) #0.35 in paper #0.45\n",
    "        file.write('\\t esyn:0,\\n')\n",
    "        file.write('\\t dF:{},\\n'.format(params['dF_nACH']))\n",
    "        file.write('\\t pre:{},\\n'.format(pre_nACH[i]))\n",
    "        file.write('\\t post:{};\\n'.format(post_nACH[i]))\n",
    "        nACH = nACH + 1 \n",
    "       \n",
    "    #fGABA syn \n",
    "    elif i in range(np.count_nonzero(nACH_syn), np.count_nonzero(nACH_syn) + np.count_nonzero(fGABA_syn)):\n",
    "        file.write('\"S {}\"\\n'.format(i))\n",
    "        file.write('\\t dxdt:1,\\n')\n",
    "       # file.write('\\t F:1,\\n')\n",
    "       # file.write('\\t F_i:1,\\n')\n",
    "       # file.write('\\t t_i:0,\\n')\n",
    "        file.write('\\t g1:0,\\n')\n",
    "        #file.write('\\t g2:0,\\n')\n",
    "        #file.write('\\t g3:0,\\n')\n",
    "        if post_fGABA[i - np.count_nonzero(nACH_syn)] < 90 :\n",
    "            file.write('\\t gsyn:{},\\n'.format(params['gsyn_LNPN_fast'])) # 0.4 in paper\n",
    "        elif post_fGABA[i - np.count_nonzero(nACH_syn)] > 90 :\n",
    "            file.write('\\t gsyn:{},\\n'.format(params['gsyn_LNLN_fast']))\n",
    "        file.write('\\t esyn:-70,\\n')\n",
    "        file.write('\\t dF:{},\\n'.format(params['dF_fGABA']))\n",
    "        #file.write('\\t ek:-95,\\n')\n",
    "        file.write('\\t pre:{},\\n'.format(pre_fGABA[i - np.count_nonzero(nACH_syn)]))\n",
    "        file.write('\\t post:{};\\n'.format(post_fGABA[i - np.count_nonzero(nACH_syn)]))\n",
    "        fGABA = fGABA + 1  \n",
    "        \n",
    "    #sGABA_syn\n",
    "    elif i in range(np.count_nonzero(nACH_syn) + np.count_nonzero(fGABA_syn), np.count_nonzero(sGABA_syn) + np.count_nonzero(nACH_syn) + np.count_nonzero(fGABA_syn)):\n",
    "        file.write('\"S {}\"\\n'.format(i))\n",
    "        file.write('\\t dxdt:2,\\n')\n",
    "       # file.write('\\t F_slow:1,\\n')\n",
    "       # file.write('\\t F_i_slow:1,\\n')\n",
    "       # file.write('\\t t_i_slow:0,\\n')\n",
    "        #file.write('\\t g1:0,\\n')\n",
    "        file.write('\\t g2:0,\\n')\n",
    "        file.write('\\t g3:0,\\n')\n",
    "        file.write('\\t gsyn_slow:{},\\n'.format(params['gsyn_LNPN_slow']))\n",
    "        #file.write('\\t gsyn:{},\\n'.format(params['gsyn_LNPN_fast']))#0.8 in paper #0.45\n",
    "        #file.write('\\t esyn:-70,\\n')\n",
    "        file.write('\\t ek:-95,\\n')\n",
    "        file.write('\\t dF:{},\\n'.format(params['dF_sGABA']))\n",
    "        file.write('\\t pre:{},\\n'.format(pre_sGABA[i - np.count_nonzero(nACH_syn) - np.count_nonzero(fGABA_syn)]))\n",
    "        file.write('\\t post:{};\\n'.format(post_sGABA[i - np.count_nonzero(nACH_syn) - np.count_nonzero(fGABA_syn)]))\n",
    "        sGABA = sGABA + 1\n",
    "        \n",
    "print nACH,fGABA,sGABA"
   ]
  },
  {
   "cell_type": "code",
   "execution_count": 242,
   "metadata": {},
   "outputs": [
    {
     "data": {
      "text/plain": [
       "4423"
      ]
     },
     "execution_count": 242,
     "metadata": {},
     "output_type": "execute_result"
    }
   ],
   "source": [
    "i"
   ]
  },
  {
   "cell_type": "markdown",
   "metadata": {},
   "source": [
    "# # synapse = np.transpose(np.nonzero(adjacency))\n",
    "# nACH = 0\n",
    "# GABA = 0\n",
    "# slow_GABA = 0\n",
    "# file = open(\"{}/ssets_120.isf\".format(dir,num_of_synapses), \"w\")\n",
    "# for i in range(0, num_of_synapses):\n",
    "#     # PN - LN connection (nACH) excitatory\n",
    "# #     if pre[i] < 90 and post[i] >= 90:\n",
    "#         file.write('\"S {}\"\\n'.format(i))\n",
    "#         file.write('\\t dxdt:1,\\n')\n",
    "#         file.write('\\t g1:0,\\n')\n",
    "#         file.write('\\t gsyn:{},\\n'.format(params['gsyn_PNLN'])) #0.35 in paper #0.45\n",
    "#         file.write('\\t esyn:0,\\n')\n",
    "#         file.write('\\t pre:{},\\n'.format(pre[i]))\n",
    "#         file.write('\\t post:{};\\n'.format(post[i]))\n",
    "#         nACH = nACH + 1          \n",
    "#     # LN - PN connection (GABA)  inhibitory  and slow GABA           \n",
    "#     elif pre[i] >= 90 and post[i] < 90:\n",
    "#         file.write('\"S {}\"\\n'.format(i))\n",
    "#         file.write('\\t dxdt:1,\\n')\n",
    "#         file.write('\\t g1:0,\\n')\n",
    "#         #file.write('\\t g2:0,\\n')\n",
    "#         #file.write('\\t g3:0,\\n')\n",
    "#         #file.write('\\t gsyn_slow:{},\\n'.format(params['gsyn_LNPN_slow']))\n",
    "#         file.write('\\t gsyn:{},\\n'.format(params['gsyn_LNPN_fast']))#0.8 in paper #0.45\n",
    "#         file.write('\\t esyn:-70,\\n')\n",
    "#         #file.write('\\t ek:-95,\\n')\n",
    "#         file.write('\\t pre:{},\\n'.format(pre[i]))\n",
    "#         file.write('\\t post:{};\\n'.format(post[i]))\n",
    "        \n",
    "#         GABA = GABA + 1  \n",
    "#         slow_GABA = slow_GABA + 1\n",
    "#     # LN - LN connection (GABA) inhibitory\n",
    "#     elif pre[i] >=90 and post[i] >=90:\n",
    "#         file.write('\"S {}\"\\n'.format(i))\n",
    "#         file.write('\\t dxdt:1,\\n')\n",
    "#         file.write('\\t g1:0,\\n')\n",
    "#         #file.write('\\t g2:0,\\n')\n",
    "#         #file.write('\\t g3:0,\\n')\n",
    "#         file.write('\\t gsyn:{},\\n'.format(params['gsyn_LNLN_fast'])) # 0.4 in paper\n",
    "#         file.write('\\t esyn:-70,\\n')\n",
    "#         #file.write('\\t ek:-95,\\n')\n",
    "#         file.write('\\t pre:{},\\n'.format(pre[i]))\n",
    "#         file.write('\\t post:{};\\n'.format(post[i]))\n",
    "#         GABA = GABA + 1  \n",
    "\n",
    "        \n",
    "# print(GABA)\n",
    "# print(slow_GABA)\n",
    "# print(nACH)"
   ]
  },
  {
   "cell_type": "code",
   "execution_count": 210,
   "metadata": {},
   "outputs": [],
   "source": [
    "def gaussian(x, mu, sig):\n",
    "    return np.exp(-np.power(x - mu, 2.) / (2 * np.power(sig, 2.)))"
   ]
  },
  {
   "cell_type": "code",
   "execution_count": 211,
   "metadata": {},
   "outputs": [],
   "source": [
    "#external current file generation - random values for current\n",
    "\n",
    "#iext is the input, give to only 1/3rd and LNs\n",
    "# iext for PN\n",
    "number_excited_PN = params['number_excited_PN']\n",
    "number_excited_LN = params['number_excited_LN']\n",
    "\n",
    "mu_PN = number_excited_PN/2\n",
    "sigma_PN = number_excited_PN/4\n",
    "\n",
    "mu_LN = number_excited_LN/2\n",
    "sigma_LN = number_excited_LN/4\n",
    "\n",
    "#I_ext_indices_PN = np.random.choice(90, size=number_excited_PN, replace=False)\n",
    "I_ext_indices_PN = np.arange(number_excited_PN)\n",
    "I_ext_PN = np.zeros(90)\n",
    "\n",
    "I_ext_PN[I_ext_indices_PN] = params['peakcurrent_PN']*gaussian(I_ext_indices_PN, mu_PN, sigma_PN)\n",
    "\n",
    "\n",
    "#iext for LN\n",
    "#I_ext_indices_LN = np.random.choice(30, size=number_excited_LN, replace=False) \n",
    "I_ext_indices_LN = np.arange(number_excited_LN)\n",
    "I_ext_LN = np.zeros(30)\n",
    "\n",
    "I_ext_LN[I_ext_indices_LN] = params['peakcurrent_LN']*gaussian(I_ext_indices_LN, mu_LN, sigma_LN)\n"
   ]
  },
  {
   "cell_type": "code",
   "execution_count": 212,
   "metadata": {},
   "outputs": [
    {
     "data": {
      "text/plain": [
       "[<matplotlib.lines.Line2D at 0x7f4e1d078790>]"
      ]
     },
     "execution_count": 212,
     "metadata": {},
     "output_type": "execute_result"
    },
    {
     "data": {
      "image/png": "[encoded data removed]",
      "text/plain": [
       "<Figure size 432x288 with 1 Axes>"
      ]
     },
     "metadata": {},
     "output_type": "display_data"
    }
   ],
   "source": [
    "pl.plot(I_ext_LN)"
   ]
  },
  {
   "cell_type": "code",
   "execution_count": 174,
   "metadata": {},
   "outputs": [
    {
     "name": "stdout",
     "output_type": "stream",
     "text": [
      "(array([ 0,  1,  2,  3,  4,  5,  6,  7,  8,  9, 10, 11, 12, 13, 14, 15, 16,\n",
      "       17, 18, 19, 20, 21, 22, 23, 24, 25, 26, 27, 28, 29, 30, 31, 32, 33,\n",
      "       34, 35, 36, 37, 38, 39, 40, 41, 42, 43, 44, 45, 46, 47, 48, 49, 50,\n",
      "       51, 52, 53, 54, 55, 56, 57, 58, 59, 60, 61, 62, 63, 64, 65, 66, 67,\n",
      "       68, 69, 70, 71, 72, 73, 74, 75, 76, 77, 78, 79, 80, 81, 82, 83, 84,\n",
      "       85, 86, 87, 88, 89]),)\n"
     ]
    }
   ],
   "source": [
    "print np.nonzero(I_ext_PN)"
   ]
  },
  {
   "cell_type": "code",
   "execution_count": null,
   "metadata": {},
   "outputs": [],
   "source": []
  },
  {
   "cell_type": "code",
   "execution_count": 94,
   "metadata": {},
   "outputs": [
    {
     "name": "stdout",
     "output_type": "stream",
     "text": [
      "(300000, 121)\n"
     ]
    }
   ],
   "source": [
    "# DC input - fill ext_current var\n",
    "\n",
    "time_start = params['time_start']\n",
    "time_stop = params['time_stop']\n",
    "time_step = params['time_step']\n",
    "time = np.arange(start = time_start, stop = time_stop, step = time_step)\n",
    "ext_current = np.zeros((int(time_stop/time_step),121))\n",
    "\n",
    "ext_current[:,0] = time\n",
    "    \n",
    "print ext_current.shape\n",
    "\n",
    "for y in range(1,121):\n",
    "    if y <= 90:\n",
    "        ext_current[:,y] = I_ext_PN[y-1]\n",
    "    else:\n",
    "        ext_current[:,y] = I_ext_LN[y-91]\n",
    "        \n",
    "type_current_ip = \"constant DC\""
   ]
  },
  {
   "cell_type": "code",
   "execution_count": 95,
   "metadata": {},
   "outputs": [
    {
     "name": "stdout",
     "output_type": "stream",
     "text": [
      "300000\n"
     ]
    }
   ],
   "source": [
    "print int(time_stop/time_step)"
   ]
  },
  {
   "cell_type": "code",
   "execution_count": null,
   "metadata": {},
   "outputs": [],
   "source": [
    "# external current file generation - Pulsed input (50% duty cycle) - pulsed ip timeseries gen\n",
    "time_start = params['time_start']\n",
    "time_stop = params['time_stop']\n",
    "time_step = params['time_step']\n",
    "time = np.arange(start = time_start, stop = time_stop, step = time_step)\n",
    "frequency_ipcurrent = 20\n",
    "\n",
    "\n",
    "I_ext_PN_pulse = np.zeros((int(time_stop/time_step),90))\n",
    "I_ext_LN_pulse = np.zeros((int(time_stop/time_step),30))\n",
    "\n",
    "for y in range(0,120):\n",
    "    if y < 90:\n",
    "        I_ext_PN_pulse[:,y] = I_ext_PN[y]*(sp.signal.square(2*np.pi*frequency_ipcurrent/1000*time, duty = 0.5)/2 + 0.5)\n",
    "    else:\n",
    "        I_ext_LN_pulse[:,y-90] = I_ext_LN[y-90]*(sp.signal.square(2*np.pi*frequency_ipcurrent/1000*time, duty = 0.5)/2 + 0.5)\n",
    "    \n",
    "pl.plot(time,I_ext_LN_pulse[:,1])"
   ]
  },
  {
   "cell_type": "code",
   "execution_count": null,
   "metadata": {},
   "outputs": [],
   "source": [
    "pl.plot(time,I_ext_LN_pulse[:,0])"
   ]
  },
  {
   "cell_type": "code",
   "execution_count": null,
   "metadata": {},
   "outputs": [],
   "source": [
    "# external current file pulsed ip writing\n",
    "\n",
    "ext_current = np.zeros((int(time_stop/time_step),121))\n",
    "\n",
    "\n",
    "ext_current[:,0] = time\n",
    "\n",
    "for y in range(1,121):\n",
    "    if y<=90:\n",
    "        ext_current[:,y] = I_ext_PN_pulse[:,y-1]\n",
    "    else:\n",
    "        ext_current[:,y] = I_ext_LN_pulse[:,y-91]\n",
    "            \n",
    "            \n",
    "print ext_current[0:10000,90]\n",
    "\n",
    "type_current_ip = \"Pulsed at {} freq\".format(frequency_ipcurrent)"
   ]
  },
  {
   "cell_type": "code",
   "execution_count": 97,
   "metadata": {},
   "outputs": [
    {
     "data": {
      "text/plain": [
       "u'/home/shruti/Documents/AL_120n_parallelised'"
      ]
     },
     "execution_count": 97,
     "metadata": {},
     "output_type": "execute_result"
    }
   ],
   "source": [
    "pwd"
   ]
  },
  {
   "cell_type": "code",
   "execution_count": 213,
   "metadata": {},
   "outputs": [
    {
     "name": "stdout",
     "output_type": "stream",
     "text": [
      "[[0.00000e+00 0.00000e+00 0.00000e+00 ... 0.00000e+00 0.00000e+00\n",
      "  0.00000e+00]\n",
      " [1.00000e-02 0.00000e+00 0.00000e+00 ... 0.00000e+00 0.00000e+00\n",
      "  0.00000e+00]\n",
      " [2.00000e-02 0.00000e+00 0.00000e+00 ... 0.00000e+00 0.00000e+00\n",
      "  0.00000e+00]\n",
      " ...\n",
      " [2.99997e+03 0.00000e+00 0.00000e+00 ... 0.00000e+00 0.00000e+00\n",
      "  0.00000e+00]\n",
      " [2.99998e+03 0.00000e+00 0.00000e+00 ... 0.00000e+00 0.00000e+00\n",
      "  0.00000e+00]\n",
      " [2.99999e+03 0.00000e+00 0.00000e+00 ... 0.00000e+00 0.00000e+00\n",
      "  0.00000e+00]]\n"
     ]
    }
   ],
   "source": [
    "#external current long 2s pulse\n",
    "\n",
    "time_start = params['time_start']\n",
    "time_stop = params['time_stop']\n",
    "time_step = params['time_step']\n",
    "time = np.arange(start = time_start, stop = time_stop, step = time_step)\n",
    "\n",
    "\n",
    "pulse_width = params['pulse_width']\n",
    "start_pulse = params['start_pulse']\n",
    "ext_current = np.zeros((int(time_stop/time_step),121))\n",
    "ext_current[:,0] = time\n",
    "\n",
    "\n",
    "for y in range(1,121):\n",
    "    if y <= 90:\n",
    "        ext_current[int(start_pulse/time_step):int(500/time_step)+int(pulse_width/time_step),y] = I_ext_PN[y-1]\n",
    "    else:\n",
    "        ext_current[int(start_pulse/time_step):int(500/time_step)+int(pulse_width/time_step),y] = I_ext_LN[y-91]\n",
    "        \n",
    "print ext_current\n",
    "\n",
    "type_current_ip = \"Long single pulse - DC\""
   ]
  },
  {
   "cell_type": "code",
   "execution_count": 214,
   "metadata": {},
   "outputs": [
    {
     "data": {
      "text/plain": [
       "[<matplotlib.lines.Line2D at 0x7f4e1cff0590>]"
      ]
     },
     "execution_count": 214,
     "metadata": {},
     "output_type": "execute_result"
    },
    {
     "data": {
      "image/png": "[encoded data removed]",
      "text/plain": [
       "<Figure size 432x288 with 1 Axes>"
      ]
     },
     "metadata": {},
     "output_type": "display_data"
    }
   ],
   "source": [
    "pl.plot(time,ext_current[:,30])"
   ]
  },
  {
   "cell_type": "code",
   "execution_count": 215,
   "metadata": {},
   "outputs": [],
   "source": [
    "header = 'time' + ''.join([',{}'.format(i) for i in range(0,120)])\n",
    "\n",
    "np.savetxt('{}/ecs_AL_120.isfc'.format(dir), ext_current, fmt='%.2f', delimiter = ',', header = header, comments='')"
   ]
  },
  {
   "cell_type": "code",
   "execution_count": null,
   "metadata": {},
   "outputs": [],
   "source": []
  },
  {
   "cell_type": "code",
   "execution_count": 216,
   "metadata": {},
   "outputs": [
    {
     "data": {
      "image/png": "[encoded data removed]",
      "text/plain": [
       "<Figure size 432x288 with 2 Axes>"
      ]
     },
     "metadata": {},
     "output_type": "display_data"
    }
   ],
   "source": [
    "pl.subplot(211)\n",
    "pl.plot(time,ext_current[:,30])\n",
    "pl.title(\"peak current\")\n",
    "pl.subplot(212)\n",
    "pl.plot(I_ext_PN)\n",
    "pl.title(\"distribution of current\")\n",
    "pl.savefig(\"{}/Distribution of current\".format(dir))"
   ]
  },
  {
   "cell_type": "code",
   "execution_count": 290,
   "metadata": {},
   "outputs": [],
   "source": [
    "import subprocess\n",
    "\n",
    "code = r'''\n",
    " #include \"insilico/core.hpp\"\n",
    "\n",
    "#include \"N_AL_PN.hpp\"\n",
    "#include \"N_AL_LN.hpp\"\n",
    "\n",
    "#include <boost/numeric/odeint.hpp>\n",
    "#include <fstream>\n",
    "#include <iostream>\n",
    "#include <iomanip>\n",
    "#include <string>\n",
    "#include <vector>\n",
    "#include <omp.h>\n",
    "#include <boost/numeric/odeint/external/openmp/openmp.hpp>\n",
    "\n",
    "using namespace boost;\n",
    "using namespace insilico;\n",
    "using namespace std;\n",
    "\n",
    "int main(int argc, char **argv) {\n",
    "  // Commands to keep track of particular variables\n",
    "  configuration::initialize(argc, argv);\n",
    "  configuration::observe(\"v\");  \n",
    "  //configuration::observe_synapse(45,\"gsyn\");\n",
    "  //configuration::observe_synapse(3100,\"gsyn_slow\"); \n",
    "  \n",
    "  // Generate 90 PN neuron\n",
    "  engine::generate_neuron<PN>(90);\n",
    "\n",
    "  // Generate 30 LN neuron\n",
    "  engine::generate_neuron<LN>(30);\n",
    "\n",
    "  // Generate 1 S_nACH synapse between our neurons\n",
    "  engine::generate_synapse<S_nACH>(%i);\n",
    "\n",
    "  // Generate 1 S_2GABAA synapse between our neurons\n",
    "  engine::generate_synapse<S_2GABAA>(%i);\n",
    "  \n",
    "  // Generate 1 S_slowGABA synapse between our neurons\n",
    "  engine::generate_synapse<S_slowGABA>(%i);\n",
    " \n",
    "  typedef numeric::odeint::runge_kutta4<\n",
    "                      state_type , double ,\n",
    "                      state_type , double ,\n",
    "                      boost::numeric::odeint::openmp_range_algebra\n",
    "                    >elr;\n",
    "                    \n",
    "                    \n",
    "  omp_set_num_threads(6);\n",
    "\n",
    "  //allowing the system to evolve\n",
    "   state_type variables = engine::get_variables();\n",
    "   integrate_const(elr(), engine::driver(), variables,\n",
    "   0.0, 3000.0, 0.01, configuration::observer());\n",
    "  configuration::finalize();\n",
    "}\n",
    "\n",
    "\n",
    "//#include \"insilico/neuron/helper/spike_list.hpp\"\n",
    "//#include \"S_nACH.hpp\"\n",
    "  //configuration::observe(\"ma\");        \n",
    "  //configuration::observe(\"ha\");        \n",
    "  //configuration::observe(\"I_A_ANTENNAL_LOBE_PN_HH\");        \n",
    "  //configuration::observe(\"I_KLEAK_ANTENNAL_LOBE_PN_HH\");        \n",
    "\n",
    "  // Generate 0 S_nACH synapse between our PN neurons\n",
    "  //engine::generate_synapse<S_nACH>(0);\n",
    "\n",
    "  // Spike list maintains neuron specific spike information (for the number of neurons in brackets)\n",
    "  //engine::spike_list.resize(1);\n",
    "\n",
    "'''% (nACH,fGABA,sGABA)\n",
    "\n",
    "f_cpp = \"main_120n.cpp\"\n",
    "with open(f_cpp,'w') as FOUT:\n",
    "    FOUT.write(code)\n"
   ]
  },
  {
   "cell_type": "code",
   "execution_count": 295,
   "metadata": {},
   "outputs": [
    {
     "name": "stdout",
     "output_type": "stream",
     "text": [
      "In file included from \u001b[01m\u001b[K./insilico-0.25/include/insilico/core/engine/serial.hpp:26:0\u001b[m\u001b[K,\n",
      "                 from \u001b[01m\u001b[K./insilico-0.25/include/insilico/core/engine.hpp:26\u001b[m\u001b[K,\n",
      "                 from \u001b[01m\u001b[K./insilico-0.25/include/insilico/core/configuration/serial.hpp:24\u001b[m\u001b[K,\n",
      "                 from \u001b[01m\u001b[K./insilico-0.25/include/insilico/core/configuration.hpp:27\u001b[m\u001b[K,\n",
      "                 from \u001b[01m\u001b[K./insilico-0.25/include/insilico/core.hpp:23\u001b[m\u001b[K,\n",
      "                 from \u001b[01m\u001b[K./main_120n.cpp:2\u001b[m\u001b[K:\n",
      "\u001b[01m\u001b[K./insilico-0.25/include/insilico/core/engine/generate.hpp:\u001b[m\u001b[K In member function ‘\u001b[01m\u001b[Kvoid insilico::engine::driver::operator()(insilico::state_type&, insilico::state_type&, double)\u001b[m\u001b[K’:\n",
      "\u001b[01m\u001b[K./insilico-0.25/include/insilico/core/engine/generate.hpp:91:15:\u001b[m\u001b[K \u001b[01;35m\u001b[Kwarning: \u001b[m\u001b[Kcomparison between signed and unsigned integer expressions [-Wsign-compare]\n",
      "  for(int i=0;i<neuron_objects_count.size();i++)\n",
      "\u001b[01;32m\u001b[K               ^\u001b[m\u001b[K\n",
      "\u001b[01m\u001b[K./insilico-0.25/include/insilico/core/engine/generate.hpp:106:15:\u001b[m\u001b[K \u001b[01;35m\u001b[Kwarning: \u001b[m\u001b[Kcomparison between signed and unsigned integer expressions [-Wsign-compare]\n",
      "  for(int i=0;i<synapse_objects_count.size();i++)\n",
      "\u001b[01;32m\u001b[K               ^\u001b[m\u001b[K\n"
     ]
    }
   ],
   "source": [
    "# run cpp sim\n",
    "!g++ -O3 -fopenmp -std=c++11 -Wall -I./insilico-0.25/include -o $dir/insilico_120n.out ./main_120n.cpp"
   ]
  },
  {
   "cell_type": "code",
   "execution_count": 289,
   "metadata": {},
   "outputs": [
    {
     "name": "stdout",
     "output_type": "stream",
     "text": [
      "[insilico::configuration::initialize]SUCCESS: Initializing with following parameters:\n",
      "Output file: 2018-10-29_run1/final_120n.csv\n",
      "Neuron file: 2018-10-29_run1/nsets_120n.isf\n",
      "Synapse file: 2018-10-29_run1/ssets_120.isf\n",
      "External current file: 2018-10-29_run1/ecs_AL_120.isfc\n",
      "[insilico::configuration::read] SUCCESS: Input file read complete.\n",
      "Segmentation fault (core dumped)\n",
      "0.0962557315826\n"
     ]
    }
   ],
   "source": [
    "import time\n",
    "start = time.time()\n",
    "\n",
    "!./$dir/insilico_120n.out -o $dir/final_120n.csv -n $dir/nsets_120n.isf -s $dir/ssets_120.isf -e $dir/ecs_AL_120.isfc\n",
    "end = time.time()\n",
    "print (end - start)/60"
   ]
  },
  {
   "cell_type": "code",
   "execution_count": null,
   "metadata": {},
   "outputs": [],
   "source": []
  },
  {
   "cell_type": "code",
   "execution_count": null,
   "metadata": {},
   "outputs": [],
   "source": []
  }
 ],
 "metadata": {
  "kernelspec": {
   "display_name": "Python 2",
   "language": "python",
   "name": "python2"
  },
  "language_info": {
   "codemirror_mode": {
    "name": "ipython",
    "version": 2
   },
   "file_extension": ".py",
   "mimetype": "text/x-python",
   "name": "python",
   "nbconvert_exporter": "python",
   "pygments_lexer": "ipython2",
   "version": "2.7.12"
  }
 },
 "nbformat": 4,
 "nbformat_minor": 2
}
